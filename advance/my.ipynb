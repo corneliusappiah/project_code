{
 "cells": [
  {
   "cell_type": "code",
   "execution_count": 2,
   "metadata": {},
   "outputs": [],
   "source": [
    "import pandas as pd\n",
    "import numpy as np\n",
    "import matplotlib.pyplot as plt\n",
    "from datasets import load_dataset\n",
    "import scipy "
   ]
  },
  {
   "cell_type": "code",
   "execution_count": 2,
   "metadata": {},
   "outputs": [
    {
     "name": "stdout",
     "output_type": "stream",
     "text": [
      "Requirement already satisfied: scipy in c:\\users\\cornelius\\anaconda3\\envs\\cornelius_project\\lib\\site-packages (1.13.1)\n",
      "Requirement already satisfied: numpy<2.3,>=1.22.4 in c:\\users\\cornelius\\anaconda3\\envs\\cornelius_project\\lib\\site-packages (from scipy) (1.26.4)\n"
     ]
    }
   ],
   "source": [
    "!pip install scipy"
   ]
  },
  {
   "cell_type": "code",
   "execution_count": 3,
   "metadata": {},
   "outputs": [
    {
     "name": "stdout",
     "output_type": "stream",
     "text": [
      "Requirement already satisfied: ydata_profiling in c:\\users\\cornelius\\anaconda3\\envs\\cornelius_project\\lib\\site-packages (4.9.0)\n",
      "Requirement already satisfied: scipy<1.14,>=1.4.1 in c:\\users\\cornelius\\anaconda3\\envs\\cornelius_project\\lib\\site-packages (from ydata_profiling) (1.13.1)\n",
      "Requirement already satisfied: pandas!=1.4.0,<3,>1.1 in c:\\users\\cornelius\\anaconda3\\envs\\cornelius_project\\lib\\site-packages (from ydata_profiling) (2.2.2)\n",
      "Requirement already satisfied: matplotlib<3.10,>=3.5 in c:\\users\\cornelius\\anaconda3\\envs\\cornelius_project\\lib\\site-packages (from ydata_profiling) (3.9.2)\n",
      "Requirement already satisfied: pydantic>=2 in c:\\users\\cornelius\\anaconda3\\envs\\cornelius_project\\lib\\site-packages (from ydata_profiling) (2.8.2)\n",
      "Requirement already satisfied: PyYAML<6.1,>=5.0.0 in c:\\users\\cornelius\\anaconda3\\envs\\cornelius_project\\lib\\site-packages (from ydata_profiling) (6.0.1)\n",
      "Requirement already satisfied: jinja2<3.2,>=2.11.1 in c:\\users\\cornelius\\anaconda3\\envs\\cornelius_project\\lib\\site-packages (from ydata_profiling) (3.1.4)\n",
      "Requirement already satisfied: visions<0.7.7,>=0.7.5 in c:\\users\\cornelius\\anaconda3\\envs\\cornelius_project\\lib\\site-packages (from visions[type_image_path]<0.7.7,>=0.7.5->ydata_profiling) (0.7.6)\n",
      "Requirement already satisfied: numpy<2,>=1.16.0 in c:\\users\\cornelius\\anaconda3\\envs\\cornelius_project\\lib\\site-packages (from ydata_profiling) (1.26.4)\n",
      "Requirement already satisfied: htmlmin==0.1.12 in c:\\users\\cornelius\\anaconda3\\envs\\cornelius_project\\lib\\site-packages (from ydata_profiling) (0.1.12)\n",
      "Requirement already satisfied: phik<0.13,>=0.11.1 in c:\\users\\cornelius\\anaconda3\\envs\\cornelius_project\\lib\\site-packages (from ydata_profiling) (0.12.4)\n",
      "Requirement already satisfied: requests<3,>=2.24.0 in c:\\users\\cornelius\\anaconda3\\envs\\cornelius_project\\lib\\site-packages (from ydata_profiling) (2.32.3)\n",
      "Requirement already satisfied: tqdm<5,>=4.48.2 in c:\\users\\cornelius\\anaconda3\\envs\\cornelius_project\\lib\\site-packages (from ydata_profiling) (4.66.5)\n",
      "Requirement already satisfied: seaborn<0.14,>=0.10.1 in c:\\users\\cornelius\\anaconda3\\envs\\cornelius_project\\lib\\site-packages (from ydata_profiling) (0.13.2)\n",
      "Requirement already satisfied: multimethod<2,>=1.4 in c:\\users\\cornelius\\anaconda3\\envs\\cornelius_project\\lib\\site-packages (from ydata_profiling) (1.12)\n",
      "Requirement already satisfied: statsmodels<1,>=0.13.2 in c:\\users\\cornelius\\anaconda3\\envs\\cornelius_project\\lib\\site-packages (from ydata_profiling) (0.14.2)\n",
      "Requirement already satisfied: typeguard<5,>=3 in c:\\users\\cornelius\\anaconda3\\envs\\cornelius_project\\lib\\site-packages (from ydata_profiling) (4.3.0)\n",
      "Requirement already satisfied: imagehash==4.3.1 in c:\\users\\cornelius\\anaconda3\\envs\\cornelius_project\\lib\\site-packages (from ydata_profiling) (4.3.1)\n",
      "Requirement already satisfied: wordcloud>=1.9.1 in c:\\users\\cornelius\\anaconda3\\envs\\cornelius_project\\lib\\site-packages (from ydata_profiling) (1.9.3)\n",
      "Requirement already satisfied: dacite>=1.8 in c:\\users\\cornelius\\anaconda3\\envs\\cornelius_project\\lib\\site-packages (from ydata_profiling) (1.8.1)\n",
      "Requirement already satisfied: numba<1,>=0.56.0 in c:\\users\\cornelius\\anaconda3\\envs\\cornelius_project\\lib\\site-packages (from ydata_profiling) (0.60.0)\n",
      "Requirement already satisfied: PyWavelets in c:\\users\\cornelius\\anaconda3\\envs\\cornelius_project\\lib\\site-packages (from imagehash==4.3.1->ydata_profiling) (1.7.0)\n",
      "Requirement already satisfied: pillow in c:\\users\\cornelius\\anaconda3\\envs\\cornelius_project\\lib\\site-packages (from imagehash==4.3.1->ydata_profiling) (10.4.0)\n",
      "Requirement already satisfied: MarkupSafe>=2.0 in c:\\users\\cornelius\\anaconda3\\envs\\cornelius_project\\lib\\site-packages (from jinja2<3.2,>=2.11.1->ydata_profiling) (2.1.3)\n",
      "Requirement already satisfied: contourpy>=1.0.1 in c:\\users\\cornelius\\anaconda3\\envs\\cornelius_project\\lib\\site-packages (from matplotlib<3.10,>=3.5->ydata_profiling) (1.2.1)\n",
      "Requirement already satisfied: cycler>=0.10 in c:\\users\\cornelius\\anaconda3\\envs\\cornelius_project\\lib\\site-packages (from matplotlib<3.10,>=3.5->ydata_profiling) (0.12.1)\n",
      "Requirement already satisfied: fonttools>=4.22.0 in c:\\users\\cornelius\\anaconda3\\envs\\cornelius_project\\lib\\site-packages (from matplotlib<3.10,>=3.5->ydata_profiling) (4.53.1)\n",
      "Requirement already satisfied: kiwisolver>=1.3.1 in c:\\users\\cornelius\\anaconda3\\envs\\cornelius_project\\lib\\site-packages (from matplotlib<3.10,>=3.5->ydata_profiling) (1.4.5)\n",
      "Requirement already satisfied: packaging>=20.0 in c:\\users\\cornelius\\anaconda3\\envs\\cornelius_project\\lib\\site-packages (from matplotlib<3.10,>=3.5->ydata_profiling) (24.1)\n",
      "Requirement already satisfied: pyparsing>=2.3.1 in c:\\users\\cornelius\\anaconda3\\envs\\cornelius_project\\lib\\site-packages (from matplotlib<3.10,>=3.5->ydata_profiling) (3.1.2)\n",
      "Requirement already satisfied: python-dateutil>=2.7 in c:\\users\\cornelius\\anaconda3\\envs\\cornelius_project\\lib\\site-packages (from matplotlib<3.10,>=3.5->ydata_profiling) (2.9.0.post0)\n",
      "Requirement already satisfied: llvmlite<0.44,>=0.43.0dev0 in c:\\users\\cornelius\\anaconda3\\envs\\cornelius_project\\lib\\site-packages (from numba<1,>=0.56.0->ydata_profiling) (0.43.0)\n",
      "Requirement already satisfied: pytz>=2020.1 in c:\\users\\cornelius\\anaconda3\\envs\\cornelius_project\\lib\\site-packages (from pandas!=1.4.0,<3,>1.1->ydata_profiling) (2024.1)\n",
      "Requirement already satisfied: tzdata>=2022.7 in c:\\users\\cornelius\\anaconda3\\envs\\cornelius_project\\lib\\site-packages (from pandas!=1.4.0,<3,>1.1->ydata_profiling) (2023.3)\n",
      "Requirement already satisfied: joblib>=0.14.1 in c:\\users\\cornelius\\anaconda3\\envs\\cornelius_project\\lib\\site-packages (from phik<0.13,>=0.11.1->ydata_profiling) (1.4.2)\n",
      "Requirement already satisfied: annotated-types>=0.4.0 in c:\\users\\cornelius\\anaconda3\\envs\\cornelius_project\\lib\\site-packages (from pydantic>=2->ydata_profiling) (0.7.0)\n",
      "Requirement already satisfied: pydantic-core==2.20.1 in c:\\users\\cornelius\\anaconda3\\envs\\cornelius_project\\lib\\site-packages (from pydantic>=2->ydata_profiling) (2.20.1)\n",
      "Requirement already satisfied: typing-extensions>=4.6.1 in c:\\users\\cornelius\\anaconda3\\envs\\cornelius_project\\lib\\site-packages (from pydantic>=2->ydata_profiling) (4.12.2)\n",
      "Requirement already satisfied: charset-normalizer<4,>=2 in c:\\users\\cornelius\\anaconda3\\envs\\cornelius_project\\lib\\site-packages (from requests<3,>=2.24.0->ydata_profiling) (3.3.2)\n",
      "Requirement already satisfied: idna<4,>=2.5 in c:\\users\\cornelius\\anaconda3\\envs\\cornelius_project\\lib\\site-packages (from requests<3,>=2.24.0->ydata_profiling) (3.7)\n",
      "Requirement already satisfied: urllib3<3,>=1.21.1 in c:\\users\\cornelius\\anaconda3\\envs\\cornelius_project\\lib\\site-packages (from requests<3,>=2.24.0->ydata_profiling) (2.2.2)\n",
      "Requirement already satisfied: certifi>=2017.4.17 in c:\\users\\cornelius\\anaconda3\\envs\\cornelius_project\\lib\\site-packages (from requests<3,>=2.24.0->ydata_profiling) (2024.7.4)\n",
      "Requirement already satisfied: patsy>=0.5.6 in c:\\users\\cornelius\\anaconda3\\envs\\cornelius_project\\lib\\site-packages (from statsmodels<1,>=0.13.2->ydata_profiling) (0.5.6)\n",
      "Requirement already satisfied: colorama in c:\\users\\cornelius\\anaconda3\\envs\\cornelius_project\\lib\\site-packages (from tqdm<5,>=4.48.2->ydata_profiling) (0.4.6)\n",
      "Requirement already satisfied: attrs>=19.3.0 in c:\\users\\cornelius\\anaconda3\\envs\\cornelius_project\\lib\\site-packages (from visions<0.7.7,>=0.7.5->visions[type_image_path]<0.7.7,>=0.7.5->ydata_profiling) (23.1.0)\n",
      "Requirement already satisfied: networkx>=2.4 in c:\\users\\cornelius\\anaconda3\\envs\\cornelius_project\\lib\\site-packages (from visions<0.7.7,>=0.7.5->visions[type_image_path]<0.7.7,>=0.7.5->ydata_profiling) (3.3)\n",
      "Requirement already satisfied: six in c:\\users\\cornelius\\anaconda3\\envs\\cornelius_project\\lib\\site-packages (from patsy>=0.5.6->statsmodels<1,>=0.13.2->ydata_profiling) (1.16.0)\n"
     ]
    }
   ],
   "source": [
    "!pip install ydata_profiling"
   ]
  },
  {
   "cell_type": "code",
   "execution_count": 4,
   "metadata": {},
   "outputs": [],
   "source": [
    "df=pd.read_csv('C:/Users/Cornelius/Desktop/project_code/advance/HR_Analytics.csv')"
   ]
  },
  {
   "cell_type": "code",
   "execution_count": 5,
   "metadata": {},
   "outputs": [
    {
     "data": {
      "text/html": [
       "<div>\n",
       "<style scoped>\n",
       "    .dataframe tbody tr th:only-of-type {\n",
       "        vertical-align: middle;\n",
       "    }\n",
       "\n",
       "    .dataframe tbody tr th {\n",
       "        vertical-align: top;\n",
       "    }\n",
       "\n",
       "    .dataframe thead th {\n",
       "        text-align: right;\n",
       "    }\n",
       "</style>\n",
       "<table border=\"1\" class=\"dataframe\">\n",
       "  <thead>\n",
       "    <tr style=\"text-align: right;\">\n",
       "      <th></th>\n",
       "      <th>EmpID</th>\n",
       "      <th>Age</th>\n",
       "      <th>AgeGroup</th>\n",
       "      <th>Attrition</th>\n",
       "      <th>BusinessTravel</th>\n",
       "      <th>DailyRate</th>\n",
       "      <th>Department</th>\n",
       "      <th>DistanceFromHome</th>\n",
       "      <th>Education</th>\n",
       "      <th>EducationField</th>\n",
       "      <th>...</th>\n",
       "      <th>RelationshipSatisfaction</th>\n",
       "      <th>StandardHours</th>\n",
       "      <th>StockOptionLevel</th>\n",
       "      <th>TotalWorkingYears</th>\n",
       "      <th>TrainingTimesLastYear</th>\n",
       "      <th>WorkLifeBalance</th>\n",
       "      <th>YearsAtCompany</th>\n",
       "      <th>YearsInCurrentRole</th>\n",
       "      <th>YearsSinceLastPromotion</th>\n",
       "      <th>YearsWithCurrManager</th>\n",
       "    </tr>\n",
       "  </thead>\n",
       "  <tbody>\n",
       "    <tr>\n",
       "      <th>0</th>\n",
       "      <td>RM297</td>\n",
       "      <td>18</td>\n",
       "      <td>18-25</td>\n",
       "      <td>Yes</td>\n",
       "      <td>Travel_Rarely</td>\n",
       "      <td>230</td>\n",
       "      <td>Research &amp; Development</td>\n",
       "      <td>3</td>\n",
       "      <td>3</td>\n",
       "      <td>Life Sciences</td>\n",
       "      <td>...</td>\n",
       "      <td>3</td>\n",
       "      <td>80</td>\n",
       "      <td>0</td>\n",
       "      <td>0</td>\n",
       "      <td>2</td>\n",
       "      <td>3</td>\n",
       "      <td>0</td>\n",
       "      <td>0</td>\n",
       "      <td>0</td>\n",
       "      <td>0.0</td>\n",
       "    </tr>\n",
       "    <tr>\n",
       "      <th>1</th>\n",
       "      <td>RM302</td>\n",
       "      <td>18</td>\n",
       "      <td>18-25</td>\n",
       "      <td>No</td>\n",
       "      <td>Travel_Rarely</td>\n",
       "      <td>812</td>\n",
       "      <td>Sales</td>\n",
       "      <td>10</td>\n",
       "      <td>3</td>\n",
       "      <td>Medical</td>\n",
       "      <td>...</td>\n",
       "      <td>1</td>\n",
       "      <td>80</td>\n",
       "      <td>0</td>\n",
       "      <td>0</td>\n",
       "      <td>2</td>\n",
       "      <td>3</td>\n",
       "      <td>0</td>\n",
       "      <td>0</td>\n",
       "      <td>0</td>\n",
       "      <td>0.0</td>\n",
       "    </tr>\n",
       "    <tr>\n",
       "      <th>2</th>\n",
       "      <td>RM458</td>\n",
       "      <td>18</td>\n",
       "      <td>18-25</td>\n",
       "      <td>Yes</td>\n",
       "      <td>Travel_Frequently</td>\n",
       "      <td>1306</td>\n",
       "      <td>Sales</td>\n",
       "      <td>5</td>\n",
       "      <td>3</td>\n",
       "      <td>Marketing</td>\n",
       "      <td>...</td>\n",
       "      <td>4</td>\n",
       "      <td>80</td>\n",
       "      <td>0</td>\n",
       "      <td>0</td>\n",
       "      <td>3</td>\n",
       "      <td>3</td>\n",
       "      <td>0</td>\n",
       "      <td>0</td>\n",
       "      <td>0</td>\n",
       "      <td>0.0</td>\n",
       "    </tr>\n",
       "    <tr>\n",
       "      <th>3</th>\n",
       "      <td>RM728</td>\n",
       "      <td>18</td>\n",
       "      <td>18-25</td>\n",
       "      <td>No</td>\n",
       "      <td>Non-Travel</td>\n",
       "      <td>287</td>\n",
       "      <td>Research &amp; Development</td>\n",
       "      <td>5</td>\n",
       "      <td>2</td>\n",
       "      <td>Life Sciences</td>\n",
       "      <td>...</td>\n",
       "      <td>4</td>\n",
       "      <td>80</td>\n",
       "      <td>0</td>\n",
       "      <td>0</td>\n",
       "      <td>2</td>\n",
       "      <td>3</td>\n",
       "      <td>0</td>\n",
       "      <td>0</td>\n",
       "      <td>0</td>\n",
       "      <td>0.0</td>\n",
       "    </tr>\n",
       "    <tr>\n",
       "      <th>4</th>\n",
       "      <td>RM829</td>\n",
       "      <td>18</td>\n",
       "      <td>18-25</td>\n",
       "      <td>Yes</td>\n",
       "      <td>Non-Travel</td>\n",
       "      <td>247</td>\n",
       "      <td>Research &amp; Development</td>\n",
       "      <td>8</td>\n",
       "      <td>1</td>\n",
       "      <td>Medical</td>\n",
       "      <td>...</td>\n",
       "      <td>4</td>\n",
       "      <td>80</td>\n",
       "      <td>0</td>\n",
       "      <td>0</td>\n",
       "      <td>0</td>\n",
       "      <td>3</td>\n",
       "      <td>0</td>\n",
       "      <td>0</td>\n",
       "      <td>0</td>\n",
       "      <td>0.0</td>\n",
       "    </tr>\n",
       "    <tr>\n",
       "      <th>...</th>\n",
       "      <td>...</td>\n",
       "      <td>...</td>\n",
       "      <td>...</td>\n",
       "      <td>...</td>\n",
       "      <td>...</td>\n",
       "      <td>...</td>\n",
       "      <td>...</td>\n",
       "      <td>...</td>\n",
       "      <td>...</td>\n",
       "      <td>...</td>\n",
       "      <td>...</td>\n",
       "      <td>...</td>\n",
       "      <td>...</td>\n",
       "      <td>...</td>\n",
       "      <td>...</td>\n",
       "      <td>...</td>\n",
       "      <td>...</td>\n",
       "      <td>...</td>\n",
       "      <td>...</td>\n",
       "      <td>...</td>\n",
       "      <td>...</td>\n",
       "    </tr>\n",
       "    <tr>\n",
       "      <th>1475</th>\n",
       "      <td>RM412</td>\n",
       "      <td>60</td>\n",
       "      <td>55+</td>\n",
       "      <td>No</td>\n",
       "      <td>Travel_Rarely</td>\n",
       "      <td>422</td>\n",
       "      <td>Research &amp; Development</td>\n",
       "      <td>7</td>\n",
       "      <td>3</td>\n",
       "      <td>Life Sciences</td>\n",
       "      <td>...</td>\n",
       "      <td>4</td>\n",
       "      <td>80</td>\n",
       "      <td>0</td>\n",
       "      <td>33</td>\n",
       "      <td>5</td>\n",
       "      <td>1</td>\n",
       "      <td>29</td>\n",
       "      <td>8</td>\n",
       "      <td>11</td>\n",
       "      <td>10.0</td>\n",
       "    </tr>\n",
       "    <tr>\n",
       "      <th>1476</th>\n",
       "      <td>RM428</td>\n",
       "      <td>60</td>\n",
       "      <td>55+</td>\n",
       "      <td>No</td>\n",
       "      <td>Travel_Frequently</td>\n",
       "      <td>1499</td>\n",
       "      <td>Sales</td>\n",
       "      <td>28</td>\n",
       "      <td>3</td>\n",
       "      <td>Marketing</td>\n",
       "      <td>...</td>\n",
       "      <td>4</td>\n",
       "      <td>80</td>\n",
       "      <td>0</td>\n",
       "      <td>22</td>\n",
       "      <td>5</td>\n",
       "      <td>4</td>\n",
       "      <td>18</td>\n",
       "      <td>13</td>\n",
       "      <td>13</td>\n",
       "      <td>11.0</td>\n",
       "    </tr>\n",
       "    <tr>\n",
       "      <th>1477</th>\n",
       "      <td>RM537</td>\n",
       "      <td>60</td>\n",
       "      <td>55+</td>\n",
       "      <td>No</td>\n",
       "      <td>Travel_Rarely</td>\n",
       "      <td>1179</td>\n",
       "      <td>Sales</td>\n",
       "      <td>16</td>\n",
       "      <td>4</td>\n",
       "      <td>Marketing</td>\n",
       "      <td>...</td>\n",
       "      <td>4</td>\n",
       "      <td>80</td>\n",
       "      <td>0</td>\n",
       "      <td>10</td>\n",
       "      <td>1</td>\n",
       "      <td>3</td>\n",
       "      <td>2</td>\n",
       "      <td>2</td>\n",
       "      <td>2</td>\n",
       "      <td>2.0</td>\n",
       "    </tr>\n",
       "    <tr>\n",
       "      <th>1478</th>\n",
       "      <td>RM880</td>\n",
       "      <td>60</td>\n",
       "      <td>55+</td>\n",
       "      <td>No</td>\n",
       "      <td>Travel_Rarely</td>\n",
       "      <td>696</td>\n",
       "      <td>Sales</td>\n",
       "      <td>7</td>\n",
       "      <td>4</td>\n",
       "      <td>Marketing</td>\n",
       "      <td>...</td>\n",
       "      <td>2</td>\n",
       "      <td>80</td>\n",
       "      <td>1</td>\n",
       "      <td>12</td>\n",
       "      <td>3</td>\n",
       "      <td>3</td>\n",
       "      <td>11</td>\n",
       "      <td>7</td>\n",
       "      <td>1</td>\n",
       "      <td>9.0</td>\n",
       "    </tr>\n",
       "    <tr>\n",
       "      <th>1479</th>\n",
       "      <td>RM1210</td>\n",
       "      <td>60</td>\n",
       "      <td>55+</td>\n",
       "      <td>No</td>\n",
       "      <td>Travel_Rarely</td>\n",
       "      <td>370</td>\n",
       "      <td>Research &amp; Development</td>\n",
       "      <td>1</td>\n",
       "      <td>4</td>\n",
       "      <td>Medical</td>\n",
       "      <td>...</td>\n",
       "      <td>3</td>\n",
       "      <td>80</td>\n",
       "      <td>1</td>\n",
       "      <td>19</td>\n",
       "      <td>2</td>\n",
       "      <td>4</td>\n",
       "      <td>1</td>\n",
       "      <td>0</td>\n",
       "      <td>0</td>\n",
       "      <td>0.0</td>\n",
       "    </tr>\n",
       "  </tbody>\n",
       "</table>\n",
       "<p>1480 rows × 38 columns</p>\n",
       "</div>"
      ],
      "text/plain": [
       "       EmpID  Age AgeGroup Attrition     BusinessTravel  DailyRate  \\\n",
       "0      RM297   18    18-25       Yes      Travel_Rarely        230   \n",
       "1      RM302   18    18-25        No      Travel_Rarely        812   \n",
       "2      RM458   18    18-25       Yes  Travel_Frequently       1306   \n",
       "3      RM728   18    18-25        No         Non-Travel        287   \n",
       "4      RM829   18    18-25       Yes         Non-Travel        247   \n",
       "...      ...  ...      ...       ...                ...        ...   \n",
       "1475   RM412   60      55+        No      Travel_Rarely        422   \n",
       "1476   RM428   60      55+        No  Travel_Frequently       1499   \n",
       "1477   RM537   60      55+        No      Travel_Rarely       1179   \n",
       "1478   RM880   60      55+        No      Travel_Rarely        696   \n",
       "1479  RM1210   60      55+        No      Travel_Rarely        370   \n",
       "\n",
       "                  Department  DistanceFromHome  Education EducationField  ...  \\\n",
       "0     Research & Development                 3          3  Life Sciences  ...   \n",
       "1                      Sales                10          3        Medical  ...   \n",
       "2                      Sales                 5          3      Marketing  ...   \n",
       "3     Research & Development                 5          2  Life Sciences  ...   \n",
       "4     Research & Development                 8          1        Medical  ...   \n",
       "...                      ...               ...        ...            ...  ...   \n",
       "1475  Research & Development                 7          3  Life Sciences  ...   \n",
       "1476                   Sales                28          3      Marketing  ...   \n",
       "1477                   Sales                16          4      Marketing  ...   \n",
       "1478                   Sales                 7          4      Marketing  ...   \n",
       "1479  Research & Development                 1          4        Medical  ...   \n",
       "\n",
       "      RelationshipSatisfaction  StandardHours  StockOptionLevel  \\\n",
       "0                            3             80                 0   \n",
       "1                            1             80                 0   \n",
       "2                            4             80                 0   \n",
       "3                            4             80                 0   \n",
       "4                            4             80                 0   \n",
       "...                        ...            ...               ...   \n",
       "1475                         4             80                 0   \n",
       "1476                         4             80                 0   \n",
       "1477                         4             80                 0   \n",
       "1478                         2             80                 1   \n",
       "1479                         3             80                 1   \n",
       "\n",
       "     TotalWorkingYears  TrainingTimesLastYear  WorkLifeBalance  \\\n",
       "0                    0                      2                3   \n",
       "1                    0                      2                3   \n",
       "2                    0                      3                3   \n",
       "3                    0                      2                3   \n",
       "4                    0                      0                3   \n",
       "...                ...                    ...              ...   \n",
       "1475                33                      5                1   \n",
       "1476                22                      5                4   \n",
       "1477                10                      1                3   \n",
       "1478                12                      3                3   \n",
       "1479                19                      2                4   \n",
       "\n",
       "      YearsAtCompany YearsInCurrentRole  YearsSinceLastPromotion  \\\n",
       "0                  0                  0                        0   \n",
       "1                  0                  0                        0   \n",
       "2                  0                  0                        0   \n",
       "3                  0                  0                        0   \n",
       "4                  0                  0                        0   \n",
       "...              ...                ...                      ...   \n",
       "1475              29                  8                       11   \n",
       "1476              18                 13                       13   \n",
       "1477               2                  2                        2   \n",
       "1478              11                  7                        1   \n",
       "1479               1                  0                        0   \n",
       "\n",
       "     YearsWithCurrManager  \n",
       "0                     0.0  \n",
       "1                     0.0  \n",
       "2                     0.0  \n",
       "3                     0.0  \n",
       "4                     0.0  \n",
       "...                   ...  \n",
       "1475                 10.0  \n",
       "1476                 11.0  \n",
       "1477                  2.0  \n",
       "1478                  9.0  \n",
       "1479                  0.0  \n",
       "\n",
       "[1480 rows x 38 columns]"
      ]
     },
     "execution_count": 5,
     "metadata": {},
     "output_type": "execute_result"
    }
   ],
   "source": [
    "df"
   ]
  },
  {
   "cell_type": "code",
   "execution_count": 6,
   "metadata": {},
   "outputs": [
    {
     "name": "stdout",
     "output_type": "stream",
     "text": [
      "<class 'pandas.core.frame.DataFrame'>\n",
      "RangeIndex: 1480 entries, 0 to 1479\n",
      "Data columns (total 38 columns):\n",
      " #   Column                    Non-Null Count  Dtype  \n",
      "---  ------                    --------------  -----  \n",
      " 0   EmpID                     1480 non-null   object \n",
      " 1   Age                       1480 non-null   int64  \n",
      " 2   AgeGroup                  1480 non-null   object \n",
      " 3   Attrition                 1480 non-null   object \n",
      " 4   BusinessTravel            1480 non-null   object \n",
      " 5   DailyRate                 1480 non-null   int64  \n",
      " 6   Department                1480 non-null   object \n",
      " 7   DistanceFromHome          1480 non-null   int64  \n",
      " 8   Education                 1480 non-null   int64  \n",
      " 9   EducationField            1480 non-null   object \n",
      " 10  EmployeeCount             1480 non-null   int64  \n",
      " 11  EmployeeNumber            1480 non-null   int64  \n",
      " 12  EnvironmentSatisfaction   1480 non-null   int64  \n",
      " 13  Gender                    1480 non-null   object \n",
      " 14  HourlyRate                1480 non-null   int64  \n",
      " 15  JobInvolvement            1480 non-null   int64  \n",
      " 16  JobLevel                  1480 non-null   int64  \n",
      " 17  JobRole                   1480 non-null   object \n",
      " 18  JobSatisfaction           1480 non-null   int64  \n",
      " 19  MaritalStatus             1480 non-null   object \n",
      " 20  MonthlyIncome             1480 non-null   int64  \n",
      " 21  SalarySlab                1480 non-null   object \n",
      " 22  MonthlyRate               1480 non-null   int64  \n",
      " 23  NumCompaniesWorked        1480 non-null   int64  \n",
      " 24  Over18                    1480 non-null   object \n",
      " 25  OverTime                  1480 non-null   object \n",
      " 26  PercentSalaryHike         1480 non-null   int64  \n",
      " 27  PerformanceRating         1480 non-null   int64  \n",
      " 28  RelationshipSatisfaction  1480 non-null   int64  \n",
      " 29  StandardHours             1480 non-null   int64  \n",
      " 30  StockOptionLevel          1480 non-null   int64  \n",
      " 31  TotalWorkingYears         1480 non-null   int64  \n",
      " 32  TrainingTimesLastYear     1480 non-null   int64  \n",
      " 33  WorkLifeBalance           1480 non-null   int64  \n",
      " 34  YearsAtCompany            1480 non-null   int64  \n",
      " 35  YearsInCurrentRole        1480 non-null   int64  \n",
      " 36  YearsSinceLastPromotion   1480 non-null   int64  \n",
      " 37  YearsWithCurrManager      1423 non-null   float64\n",
      "dtypes: float64(1), int64(25), object(12)\n",
      "memory usage: 439.5+ KB\n"
     ]
    }
   ],
   "source": [
    "df.info()"
   ]
  },
  {
   "cell_type": "code",
   "execution_count": 7,
   "metadata": {},
   "outputs": [
    {
     "data": {
      "text/html": [
       "<div>\n",
       "<style scoped>\n",
       "    .dataframe tbody tr th:only-of-type {\n",
       "        vertical-align: middle;\n",
       "    }\n",
       "\n",
       "    .dataframe tbody tr th {\n",
       "        vertical-align: top;\n",
       "    }\n",
       "\n",
       "    .dataframe thead th {\n",
       "        text-align: right;\n",
       "    }\n",
       "</style>\n",
       "<table border=\"1\" class=\"dataframe\">\n",
       "  <thead>\n",
       "    <tr style=\"text-align: right;\">\n",
       "      <th></th>\n",
       "      <th>EmpID</th>\n",
       "      <th>Age</th>\n",
       "      <th>AgeGroup</th>\n",
       "      <th>Attrition</th>\n",
       "      <th>BusinessTravel</th>\n",
       "      <th>DailyRate</th>\n",
       "      <th>Department</th>\n",
       "      <th>DistanceFromHome</th>\n",
       "      <th>Education</th>\n",
       "      <th>EducationField</th>\n",
       "      <th>...</th>\n",
       "      <th>RelationshipSatisfaction</th>\n",
       "      <th>StandardHours</th>\n",
       "      <th>StockOptionLevel</th>\n",
       "      <th>TotalWorkingYears</th>\n",
       "      <th>TrainingTimesLastYear</th>\n",
       "      <th>WorkLifeBalance</th>\n",
       "      <th>YearsAtCompany</th>\n",
       "      <th>YearsInCurrentRole</th>\n",
       "      <th>YearsSinceLastPromotion</th>\n",
       "      <th>YearsWithCurrManager</th>\n",
       "    </tr>\n",
       "  </thead>\n",
       "  <tbody>\n",
       "    <tr>\n",
       "      <th>0</th>\n",
       "      <td>RM297</td>\n",
       "      <td>18</td>\n",
       "      <td>18-25</td>\n",
       "      <td>Yes</td>\n",
       "      <td>Travel_Rarely</td>\n",
       "      <td>230</td>\n",
       "      <td>Research &amp; Development</td>\n",
       "      <td>3</td>\n",
       "      <td>3</td>\n",
       "      <td>Life Sciences</td>\n",
       "      <td>...</td>\n",
       "      <td>3</td>\n",
       "      <td>80</td>\n",
       "      <td>0</td>\n",
       "      <td>0</td>\n",
       "      <td>2</td>\n",
       "      <td>3</td>\n",
       "      <td>0</td>\n",
       "      <td>0</td>\n",
       "      <td>0</td>\n",
       "      <td>0.0</td>\n",
       "    </tr>\n",
       "    <tr>\n",
       "      <th>1</th>\n",
       "      <td>RM302</td>\n",
       "      <td>18</td>\n",
       "      <td>18-25</td>\n",
       "      <td>No</td>\n",
       "      <td>Travel_Rarely</td>\n",
       "      <td>812</td>\n",
       "      <td>Sales</td>\n",
       "      <td>10</td>\n",
       "      <td>3</td>\n",
       "      <td>Medical</td>\n",
       "      <td>...</td>\n",
       "      <td>1</td>\n",
       "      <td>80</td>\n",
       "      <td>0</td>\n",
       "      <td>0</td>\n",
       "      <td>2</td>\n",
       "      <td>3</td>\n",
       "      <td>0</td>\n",
       "      <td>0</td>\n",
       "      <td>0</td>\n",
       "      <td>0.0</td>\n",
       "    </tr>\n",
       "    <tr>\n",
       "      <th>2</th>\n",
       "      <td>RM458</td>\n",
       "      <td>18</td>\n",
       "      <td>18-25</td>\n",
       "      <td>Yes</td>\n",
       "      <td>Travel_Frequently</td>\n",
       "      <td>1306</td>\n",
       "      <td>Sales</td>\n",
       "      <td>5</td>\n",
       "      <td>3</td>\n",
       "      <td>Marketing</td>\n",
       "      <td>...</td>\n",
       "      <td>4</td>\n",
       "      <td>80</td>\n",
       "      <td>0</td>\n",
       "      <td>0</td>\n",
       "      <td>3</td>\n",
       "      <td>3</td>\n",
       "      <td>0</td>\n",
       "      <td>0</td>\n",
       "      <td>0</td>\n",
       "      <td>0.0</td>\n",
       "    </tr>\n",
       "    <tr>\n",
       "      <th>3</th>\n",
       "      <td>RM728</td>\n",
       "      <td>18</td>\n",
       "      <td>18-25</td>\n",
       "      <td>No</td>\n",
       "      <td>Non-Travel</td>\n",
       "      <td>287</td>\n",
       "      <td>Research &amp; Development</td>\n",
       "      <td>5</td>\n",
       "      <td>2</td>\n",
       "      <td>Life Sciences</td>\n",
       "      <td>...</td>\n",
       "      <td>4</td>\n",
       "      <td>80</td>\n",
       "      <td>0</td>\n",
       "      <td>0</td>\n",
       "      <td>2</td>\n",
       "      <td>3</td>\n",
       "      <td>0</td>\n",
       "      <td>0</td>\n",
       "      <td>0</td>\n",
       "      <td>0.0</td>\n",
       "    </tr>\n",
       "    <tr>\n",
       "      <th>4</th>\n",
       "      <td>RM829</td>\n",
       "      <td>18</td>\n",
       "      <td>18-25</td>\n",
       "      <td>Yes</td>\n",
       "      <td>Non-Travel</td>\n",
       "      <td>247</td>\n",
       "      <td>Research &amp; Development</td>\n",
       "      <td>8</td>\n",
       "      <td>1</td>\n",
       "      <td>Medical</td>\n",
       "      <td>...</td>\n",
       "      <td>4</td>\n",
       "      <td>80</td>\n",
       "      <td>0</td>\n",
       "      <td>0</td>\n",
       "      <td>0</td>\n",
       "      <td>3</td>\n",
       "      <td>0</td>\n",
       "      <td>0</td>\n",
       "      <td>0</td>\n",
       "      <td>0.0</td>\n",
       "    </tr>\n",
       "    <tr>\n",
       "      <th>...</th>\n",
       "      <td>...</td>\n",
       "      <td>...</td>\n",
       "      <td>...</td>\n",
       "      <td>...</td>\n",
       "      <td>...</td>\n",
       "      <td>...</td>\n",
       "      <td>...</td>\n",
       "      <td>...</td>\n",
       "      <td>...</td>\n",
       "      <td>...</td>\n",
       "      <td>...</td>\n",
       "      <td>...</td>\n",
       "      <td>...</td>\n",
       "      <td>...</td>\n",
       "      <td>...</td>\n",
       "      <td>...</td>\n",
       "      <td>...</td>\n",
       "      <td>...</td>\n",
       "      <td>...</td>\n",
       "      <td>...</td>\n",
       "      <td>...</td>\n",
       "    </tr>\n",
       "    <tr>\n",
       "      <th>1475</th>\n",
       "      <td>RM412</td>\n",
       "      <td>60</td>\n",
       "      <td>55+</td>\n",
       "      <td>No</td>\n",
       "      <td>Travel_Rarely</td>\n",
       "      <td>422</td>\n",
       "      <td>Research &amp; Development</td>\n",
       "      <td>7</td>\n",
       "      <td>3</td>\n",
       "      <td>Life Sciences</td>\n",
       "      <td>...</td>\n",
       "      <td>4</td>\n",
       "      <td>80</td>\n",
       "      <td>0</td>\n",
       "      <td>33</td>\n",
       "      <td>5</td>\n",
       "      <td>1</td>\n",
       "      <td>29</td>\n",
       "      <td>8</td>\n",
       "      <td>11</td>\n",
       "      <td>10.0</td>\n",
       "    </tr>\n",
       "    <tr>\n",
       "      <th>1476</th>\n",
       "      <td>RM428</td>\n",
       "      <td>60</td>\n",
       "      <td>55+</td>\n",
       "      <td>No</td>\n",
       "      <td>Travel_Frequently</td>\n",
       "      <td>1499</td>\n",
       "      <td>Sales</td>\n",
       "      <td>28</td>\n",
       "      <td>3</td>\n",
       "      <td>Marketing</td>\n",
       "      <td>...</td>\n",
       "      <td>4</td>\n",
       "      <td>80</td>\n",
       "      <td>0</td>\n",
       "      <td>22</td>\n",
       "      <td>5</td>\n",
       "      <td>4</td>\n",
       "      <td>18</td>\n",
       "      <td>13</td>\n",
       "      <td>13</td>\n",
       "      <td>11.0</td>\n",
       "    </tr>\n",
       "    <tr>\n",
       "      <th>1477</th>\n",
       "      <td>RM537</td>\n",
       "      <td>60</td>\n",
       "      <td>55+</td>\n",
       "      <td>No</td>\n",
       "      <td>Travel_Rarely</td>\n",
       "      <td>1179</td>\n",
       "      <td>Sales</td>\n",
       "      <td>16</td>\n",
       "      <td>4</td>\n",
       "      <td>Marketing</td>\n",
       "      <td>...</td>\n",
       "      <td>4</td>\n",
       "      <td>80</td>\n",
       "      <td>0</td>\n",
       "      <td>10</td>\n",
       "      <td>1</td>\n",
       "      <td>3</td>\n",
       "      <td>2</td>\n",
       "      <td>2</td>\n",
       "      <td>2</td>\n",
       "      <td>2.0</td>\n",
       "    </tr>\n",
       "    <tr>\n",
       "      <th>1478</th>\n",
       "      <td>RM880</td>\n",
       "      <td>60</td>\n",
       "      <td>55+</td>\n",
       "      <td>No</td>\n",
       "      <td>Travel_Rarely</td>\n",
       "      <td>696</td>\n",
       "      <td>Sales</td>\n",
       "      <td>7</td>\n",
       "      <td>4</td>\n",
       "      <td>Marketing</td>\n",
       "      <td>...</td>\n",
       "      <td>2</td>\n",
       "      <td>80</td>\n",
       "      <td>1</td>\n",
       "      <td>12</td>\n",
       "      <td>3</td>\n",
       "      <td>3</td>\n",
       "      <td>11</td>\n",
       "      <td>7</td>\n",
       "      <td>1</td>\n",
       "      <td>9.0</td>\n",
       "    </tr>\n",
       "    <tr>\n",
       "      <th>1479</th>\n",
       "      <td>RM1210</td>\n",
       "      <td>60</td>\n",
       "      <td>55+</td>\n",
       "      <td>No</td>\n",
       "      <td>Travel_Rarely</td>\n",
       "      <td>370</td>\n",
       "      <td>Research &amp; Development</td>\n",
       "      <td>1</td>\n",
       "      <td>4</td>\n",
       "      <td>Medical</td>\n",
       "      <td>...</td>\n",
       "      <td>3</td>\n",
       "      <td>80</td>\n",
       "      <td>1</td>\n",
       "      <td>19</td>\n",
       "      <td>2</td>\n",
       "      <td>4</td>\n",
       "      <td>1</td>\n",
       "      <td>0</td>\n",
       "      <td>0</td>\n",
       "      <td>0.0</td>\n",
       "    </tr>\n",
       "  </tbody>\n",
       "</table>\n",
       "<p>1470 rows × 38 columns</p>\n",
       "</div>"
      ],
      "text/plain": [
       "       EmpID  Age AgeGroup Attrition     BusinessTravel  DailyRate  \\\n",
       "0      RM297   18    18-25       Yes      Travel_Rarely        230   \n",
       "1      RM302   18    18-25        No      Travel_Rarely        812   \n",
       "2      RM458   18    18-25       Yes  Travel_Frequently       1306   \n",
       "3      RM728   18    18-25        No         Non-Travel        287   \n",
       "4      RM829   18    18-25       Yes         Non-Travel        247   \n",
       "...      ...  ...      ...       ...                ...        ...   \n",
       "1475   RM412   60      55+        No      Travel_Rarely        422   \n",
       "1476   RM428   60      55+        No  Travel_Frequently       1499   \n",
       "1477   RM537   60      55+        No      Travel_Rarely       1179   \n",
       "1478   RM880   60      55+        No      Travel_Rarely        696   \n",
       "1479  RM1210   60      55+        No      Travel_Rarely        370   \n",
       "\n",
       "                  Department  DistanceFromHome  Education EducationField  ...  \\\n",
       "0     Research & Development                 3          3  Life Sciences  ...   \n",
       "1                      Sales                10          3        Medical  ...   \n",
       "2                      Sales                 5          3      Marketing  ...   \n",
       "3     Research & Development                 5          2  Life Sciences  ...   \n",
       "4     Research & Development                 8          1        Medical  ...   \n",
       "...                      ...               ...        ...            ...  ...   \n",
       "1475  Research & Development                 7          3  Life Sciences  ...   \n",
       "1476                   Sales                28          3      Marketing  ...   \n",
       "1477                   Sales                16          4      Marketing  ...   \n",
       "1478                   Sales                 7          4      Marketing  ...   \n",
       "1479  Research & Development                 1          4        Medical  ...   \n",
       "\n",
       "      RelationshipSatisfaction  StandardHours  StockOptionLevel  \\\n",
       "0                            3             80                 0   \n",
       "1                            1             80                 0   \n",
       "2                            4             80                 0   \n",
       "3                            4             80                 0   \n",
       "4                            4             80                 0   \n",
       "...                        ...            ...               ...   \n",
       "1475                         4             80                 0   \n",
       "1476                         4             80                 0   \n",
       "1477                         4             80                 0   \n",
       "1478                         2             80                 1   \n",
       "1479                         3             80                 1   \n",
       "\n",
       "     TotalWorkingYears  TrainingTimesLastYear  WorkLifeBalance  \\\n",
       "0                    0                      2                3   \n",
       "1                    0                      2                3   \n",
       "2                    0                      3                3   \n",
       "3                    0                      2                3   \n",
       "4                    0                      0                3   \n",
       "...                ...                    ...              ...   \n",
       "1475                33                      5                1   \n",
       "1476                22                      5                4   \n",
       "1477                10                      1                3   \n",
       "1478                12                      3                3   \n",
       "1479                19                      2                4   \n",
       "\n",
       "      YearsAtCompany YearsInCurrentRole  YearsSinceLastPromotion  \\\n",
       "0                  0                  0                        0   \n",
       "1                  0                  0                        0   \n",
       "2                  0                  0                        0   \n",
       "3                  0                  0                        0   \n",
       "4                  0                  0                        0   \n",
       "...              ...                ...                      ...   \n",
       "1475              29                  8                       11   \n",
       "1476              18                 13                       13   \n",
       "1477               2                  2                        2   \n",
       "1478              11                  7                        1   \n",
       "1479               1                  0                        0   \n",
       "\n",
       "     YearsWithCurrManager  \n",
       "0                     0.0  \n",
       "1                     0.0  \n",
       "2                     0.0  \n",
       "3                     0.0  \n",
       "4                     0.0  \n",
       "...                   ...  \n",
       "1475                 10.0  \n",
       "1476                 11.0  \n",
       "1477                  2.0  \n",
       "1478                  9.0  \n",
       "1479                  0.0  \n",
       "\n",
       "[1470 rows x 38 columns]"
      ]
     },
     "execution_count": 7,
     "metadata": {},
     "output_type": "execute_result"
    }
   ],
   "source": [
    "df.drop_duplicates('EmpID')"
   ]
  },
  {
   "cell_type": "code",
   "execution_count": 8,
   "metadata": {},
   "outputs": [
    {
     "data": {
      "text/plain": [
       "Department\n",
       "Human Resources            5040\n",
       "Research & Development    77360\n",
       "Sales                     36000\n",
       "Name: StandardHours, dtype: int64"
      ]
     },
     "execution_count": 8,
     "metadata": {},
     "output_type": "execute_result"
    }
   ],
   "source": [
    "df.groupby(\"Department\")['StandardHours'].sum()\n"
   ]
  },
  {
   "cell_type": "code",
   "execution_count": 9,
   "metadata": {},
   "outputs": [],
   "source": [
    "df_p=df.copy()"
   ]
  },
  {
   "cell_type": "code",
   "execution_count": 10,
   "metadata": {},
   "outputs": [
    {
     "data": {
      "text/plain": [
       "Department\n",
       "Research & Development    967\n",
       "Sales                     450\n",
       "Human Resources            63\n",
       "Name: count, dtype: int64"
      ]
     },
     "execution_count": 10,
     "metadata": {},
     "output_type": "execute_result"
    }
   ],
   "source": [
    "df.Department.value_counts()"
   ]
  },
  {
   "cell_type": "code",
   "execution_count": 11,
   "metadata": {},
   "outputs": [
    {
     "data": {
      "text/plain": [
       "Department\n",
       "Human Resources            63\n",
       "Research & Development    967\n",
       "Sales                     450\n",
       "dtype: int64"
      ]
     },
     "execution_count": 11,
     "metadata": {},
     "output_type": "execute_result"
    }
   ],
   "source": [
    "df_pivot=df.pivot_table(index='Department',aggfunc=\"size\")\n",
    "df_pivot"
   ]
  },
  {
   "cell_type": "code",
   "execution_count": null,
   "metadata": {},
   "outputs": [],
   "source": []
  },
  {
   "cell_type": "code",
   "execution_count": 12,
   "metadata": {},
   "outputs": [
    {
     "data": {
      "text/plain": [
       "<Axes: >"
      ]
     },
     "execution_count": 12,
     "metadata": {},
     "output_type": "execute_result"
    },
    {
     "data": {
      "image/png": "[encoded data removed]",
      "text/plain": [
       "<Figure size 640x480 with 1 Axes>"
      ]
     },
     "metadata": {},
     "output_type": "display_data"
    }
   ],
   "source": [
    "df_pivot.plot(kind=\"pie\")"
   ]
  },
  {
   "cell_type": "code",
   "execution_count": 13,
   "metadata": {},
   "outputs": [
    {
     "data": {
      "text/plain": [
       "Department\n",
       "Human Resources            63\n",
       "Research & Development    967\n",
       "Sales                     450\n",
       "dtype: int64"
      ]
     },
     "execution_count": 13,
     "metadata": {},
     "output_type": "execute_result"
    }
   ],
   "source": [
    "df_pivot1=df.pivot_table(index='BusinessTravel',columns='Department',values='StandardHours',aggfunc=\"sum\")\n",
    "df_pivot"
   ]
  },
  {
   "cell_type": "code",
   "execution_count": 14,
   "metadata": {},
   "outputs": [
    {
     "data": {
      "text/plain": [
       "<Axes: xlabel='BusinessTravel'>"
      ]
     },
     "execution_count": 14,
     "metadata": {},
     "output_type": "execute_result"
    },
    {
     "data": {
      "image/png": "[encoded data removed]",
      "text/plain": [
       "<Figure size 640x480 with 1 Axes>"
      ]
     },
     "metadata": {},
     "output_type": "display_data"
    }
   ],
   "source": [
    "df_pivot1.plot(kind='bar')"
   ]
  },
  {
   "cell_type": "code",
   "execution_count": 15,
   "metadata": {},
   "outputs": [
    {
     "name": "stdout",
     "output_type": "stream",
     "text": [
      "Requirement already satisfied: scipy in c:\\users\\cornelius\\anaconda3\\envs\\cornelius_project\\lib\\site-packages (1.13.1)\n",
      "Requirement already satisfied: numpy<2.3,>=1.22.4 in c:\\users\\cornelius\\anaconda3\\envs\\cornelius_project\\lib\\site-packages (from scipy) (1.26.4)\n"
     ]
    }
   ],
   "source": [
    "!pip install scipy"
   ]
  },
  {
   "cell_type": "code",
   "execution_count": 16,
   "metadata": {},
   "outputs": [
    {
     "data": {
      "text/plain": [
       "80.0"
      ]
     },
     "execution_count": 16,
     "metadata": {},
     "output_type": "execute_result"
    }
   ],
   "source": [
    "x=df['StandardHours']\n",
    "y=np.mean(x)\n",
    "y"
   ]
  },
  {
   "cell_type": "code",
   "execution_count": 17,
   "metadata": {},
   "outputs": [
    {
     "name": "stdout",
     "output_type": "stream",
     "text": [
      "Requirement already satisfied: seaborn in c:\\users\\cornelius\\anaconda3\\envs\\cornelius_project\\lib\\site-packages (0.13.2)\n",
      "Requirement already satisfied: numpy!=1.24.0,>=1.20 in c:\\users\\cornelius\\anaconda3\\envs\\cornelius_project\\lib\\site-packages (from seaborn) (1.26.4)\n",
      "Requirement already satisfied: pandas>=1.2 in c:\\users\\cornelius\\anaconda3\\envs\\cornelius_project\\lib\\site-packages (from seaborn) (2.2.2)\n",
      "Requirement already satisfied: matplotlib!=3.6.1,>=3.4 in c:\\users\\cornelius\\anaconda3\\envs\\cornelius_project\\lib\\site-packages (from seaborn) (3.9.2)\n",
      "Requirement already satisfied: contourpy>=1.0.1 in c:\\users\\cornelius\\anaconda3\\envs\\cornelius_project\\lib\\site-packages (from matplotlib!=3.6.1,>=3.4->seaborn) (1.2.1)\n",
      "Requirement already satisfied: cycler>=0.10 in c:\\users\\cornelius\\anaconda3\\envs\\cornelius_project\\lib\\site-packages (from matplotlib!=3.6.1,>=3.4->seaborn) (0.12.1)\n",
      "Requirement already satisfied: fonttools>=4.22.0 in c:\\users\\cornelius\\anaconda3\\envs\\cornelius_project\\lib\\site-packages (from matplotlib!=3.6.1,>=3.4->seaborn) (4.53.1)\n",
      "Requirement already satisfied: kiwisolver>=1.3.1 in c:\\users\\cornelius\\anaconda3\\envs\\cornelius_project\\lib\\site-packages (from matplotlib!=3.6.1,>=3.4->seaborn) (1.4.5)\n",
      "Requirement already satisfied: packaging>=20.0 in c:\\users\\cornelius\\anaconda3\\envs\\cornelius_project\\lib\\site-packages (from matplotlib!=3.6.1,>=3.4->seaborn) (24.1)\n",
      "Requirement already satisfied: pillow>=8 in c:\\users\\cornelius\\anaconda3\\envs\\cornelius_project\\lib\\site-packages (from matplotlib!=3.6.1,>=3.4->seaborn) (10.4.0)\n",
      "Requirement already satisfied: pyparsing>=2.3.1 in c:\\users\\cornelius\\anaconda3\\envs\\cornelius_project\\lib\\site-packages (from matplotlib!=3.6.1,>=3.4->seaborn) (3.1.2)\n",
      "Requirement already satisfied: python-dateutil>=2.7 in c:\\users\\cornelius\\anaconda3\\envs\\cornelius_project\\lib\\site-packages (from matplotlib!=3.6.1,>=3.4->seaborn) (2.9.0.post0)\n",
      "Requirement already satisfied: pytz>=2020.1 in c:\\users\\cornelius\\anaconda3\\envs\\cornelius_project\\lib\\site-packages (from pandas>=1.2->seaborn) (2024.1)\n",
      "Requirement already satisfied: tzdata>=2022.7 in c:\\users\\cornelius\\anaconda3\\envs\\cornelius_project\\lib\\site-packages (from pandas>=1.2->seaborn) (2023.3)\n",
      "Requirement already satisfied: six>=1.5 in c:\\users\\cornelius\\anaconda3\\envs\\cornelius_project\\lib\\site-packages (from python-dateutil>=2.7->matplotlib!=3.6.1,>=3.4->seaborn) (1.16.0)\n"
     ]
    }
   ],
   "source": [
    "!pip install seaborn"
   ]
  },
  {
   "cell_type": "code",
   "execution_count": 18,
   "metadata": {},
   "outputs": [],
   "source": [
    "import scipy\n",
    "from scipy import stats"
   ]
  },
  {
   "cell_type": "code",
   "execution_count": 19,
   "metadata": {},
   "outputs": [
    {
     "data": {
      "text/plain": [
       "80.0"
      ]
     },
     "execution_count": 19,
     "metadata": {},
     "output_type": "execute_result"
    }
   ],
   "source": [
    "x=df['StandardHours']\n",
    "y=np.percentile(x,75)\n",
    "y"
   ]
  },
  {
   "cell_type": "code",
   "execution_count": 20,
   "metadata": {},
   "outputs": [],
   "source": [
    "def st(p):\n",
    "    s=(p*y)\n",
    "    return s"
   ]
  },
  {
   "cell_type": "code",
   "execution_count": 21,
   "metadata": {},
   "outputs": [
    {
     "data": {
      "text/plain": [
       "160.0"
      ]
     },
     "execution_count": 21,
     "metadata": {},
     "output_type": "execute_result"
    }
   ],
   "source": [
    "st(2)\n"
   ]
  },
  {
   "cell_type": "code",
   "execution_count": 22,
   "metadata": {},
   "outputs": [],
   "source": [
    "def min_and_max():\n",
    "    min=df['StandardHours'].min()\n",
    "    max=df['StandardHours'].max()\n",
    "    return(max,min)"
   ]
  },
  {
   "cell_type": "code",
   "execution_count": 23,
   "metadata": {},
   "outputs": [
    {
     "data": {
      "text/plain": [
       "(80, 80)"
      ]
     },
     "execution_count": 23,
     "metadata": {},
     "output_type": "execute_result"
    }
   ],
   "source": [
    "min_and_max()"
   ]
  },
  {
   "cell_type": "code",
   "execution_count": 24,
   "metadata": {},
   "outputs": [
    {
     "data": {
      "text/plain": [
       "0.0"
      ]
     },
     "execution_count": 24,
     "metadata": {},
     "output_type": "execute_result"
    }
   ],
   "source": [
    "x=df['StandardHours']\n",
    "z=np.var(df['StandardHours'])\n",
    "z\n"
   ]
  },
  {
   "cell_type": "code",
   "execution_count": 25,
   "metadata": {},
   "outputs": [
    {
     "data": {
      "text/plain": [
       "0.0"
      ]
     },
     "execution_count": 25,
     "metadata": {},
     "output_type": "execute_result"
    }
   ],
   "source": [
    "import statistics\n",
    "p=statistics.pstdev(x)\n",
    "p"
   ]
  },
  {
   "cell_type": "code",
   "execution_count": 26,
   "metadata": {},
   "outputs": [
    {
     "data": {
      "text/plain": [
       "0.0"
      ]
     },
     "execution_count": 26,
     "metadata": {},
     "output_type": "execute_result"
    }
   ],
   "source": [
    "sd=statistics.stdev(x)\n",
    "sd"
   ]
  },
  {
   "cell_type": "code",
   "execution_count": 27,
   "metadata": {},
   "outputs": [
    {
     "data": {
      "text/plain": [
       "0.0"
      ]
     },
     "execution_count": 27,
     "metadata": {},
     "output_type": "execute_result"
    }
   ],
   "source": [
    "s=np.std(x)\n",
    "s"
   ]
  },
  {
   "cell_type": "code",
   "execution_count": 28,
   "metadata": {},
   "outputs": [
    {
     "data": {
      "text/plain": [
       "<function matplotlib.pyplot.show(close=None, block=None)>"
      ]
     },
     "execution_count": 28,
     "metadata": {},
     "output_type": "execute_result"
    },
    {
     "data": {
      "image/png": "[encoded data removed]",
      "text/plain": [
       "<Figure size 640x480 with 1 Axes>"
      ]
     },
     "metadata": {},
     "output_type": "display_data"
    }
   ],
   "source": [
    "import matplotlib.pyplot as plt\n",
    "plt.boxplot(x,sym='*')\n",
    "plt.show"
   ]
  },
  {
   "cell_type": "code",
   "execution_count": 3,
   "metadata": {},
   "outputs": [],
   "source": [
    "import scipy \n",
    "import numpy as np\n",
    "from scipy.stats import binom"
   ]
  },
  {
   "cell_type": "code",
   "execution_count": 4,
   "metadata": {},
   "outputs": [
    {
     "data": {
      "text/plain": [
       "0.09077799859322798"
      ]
     },
     "execution_count": 4,
     "metadata": {},
     "output_type": "execute_result"
    }
   ],
   "source": [
    "binom.pmf(k=19,n=25,p=0.65)"
   ]
  },
  {
   "cell_type": "code",
   "execution_count": 31,
   "metadata": {},
   "outputs": [
    {
     "data": {
      "text/plain": [
       "0.8850275957378548"
      ]
     },
     "execution_count": 31,
     "metadata": {},
     "output_type": "execute_result"
    }
   ],
   "source": [
    "\n",
    "#cumulative distribution function is used when the is a condition either greater than or less than\n",
    "binom.cdf(2,20,0.06)"
   ]
  },
  {
   "cell_type": "code",
   "execution_count": 32,
   "metadata": {},
   "outputs": [
    {
     "data": {
      "text/plain": [
       "0.11714155053639004"
      ]
     },
     "execution_count": 32,
     "metadata": {},
     "output_type": "execute_result"
    }
   ],
   "source": [
    "binom.pmf(k=10,n=20,p=0.4)"
   ]
  },
  {
   "cell_type": "code",
   "execution_count": 1,
   "metadata": {},
   "outputs": [],
   "source": [
    "#poission distribution , it always contains mean or average\n",
    "from scipy.stats import poisson"
   ]
  },
  {
   "cell_type": "code",
   "execution_count": null,
   "metadata": {},
   "outputs": [],
   "source": []
  },
  {
   "cell_type": "code",
   "execution_count": 34,
   "metadata": {},
   "outputs": [
    {
     "data": {
      "text/plain": [
       "0.18044704431548356"
      ]
     },
     "execution_count": 34,
     "metadata": {},
     "output_type": "execute_result"
    }
   ],
   "source": [
    "poisson.pmf(3,2) #3=x, mean=2"
   ]
  },
  {
   "cell_type": "code",
   "execution_count": 35,
   "metadata": {},
   "outputs": [
    {
     "data": {
      "text/plain": [
       "0.11397938346351824"
      ]
     },
     "execution_count": 35,
     "metadata": {},
     "output_type": "execute_result"
    }
   ],
   "source": [
    "# suppose bank customers arrive random on weekday afternoon at an average of 3.2 customers every 4min.\n",
    "#what is probability of exactly 5 customers arriving in a 4min interval on weekday  afternoon.\n",
    "poisson.pmf(5,3.2)"
   ]
  },
  {
   "cell_type": "code",
   "execution_count": 7,
   "metadata": {},
   "outputs": [
    {
     "data": {
      "text/plain": [
       "0.026738922091319672"
      ]
     },
     "execution_count": 7,
     "metadata": {},
     "output_type": "execute_result"
    }
   ],
   "source": [
    "# suppose bank customers arrive random on weekday afternoon at an average of 3.2 customers every 4min.\n",
    "#what is probability of having more than 7 customers arriving in a 4min interval on weekday  afternoon.\n",
    "\n",
    "prob=poisson.cdf(7,3.5)\n",
    "probability_of_More_than_7=1-prob\n",
    "probability_of_More_than_7"
   ]
  },
  {
   "cell_type": "code",
   "execution_count": null,
   "metadata": {},
   "outputs": [],
   "source": [
    "# A bank as an average random arrival rate of 3.2 customers every 4min. what is the prob of getting exactly 10 customers during 8min interval?"
   ]
  },
  {
   "cell_type": "code",
   "execution_count": 10,
   "metadata": {},
   "outputs": [
    {
     "data": {
      "text/plain": [
       "0.052790043854115495"
      ]
     },
     "execution_count": 10,
     "metadata": {},
     "output_type": "execute_result"
    }
   ],
   "source": [
    "#mean=2*(3.2) since the time interval is 4min we have to get the mean for 8min\n",
    "poisson.pmf(10,2*(3.2))"
   ]
  },
  {
   "cell_type": "code",
   "execution_count": null,
   "metadata": {},
   "outputs": [],
   "source": [
    "#Uniform distribution\n",
    "# Normal deals with ranges "
   ]
  },
  {
   "cell_type": "code",
   "execution_count": null,
   "metadata": {},
   "outputs": [],
   "source": [
    "#suppose Amounth of time it takes to assembly a plastic module range from 27 to 39 seconds \n",
    "# And that Asemble time is uniformly distributed. describe the distribution.What is the probability that a given assemble will take between 30 to 35."
   ]
  },
  {
   "cell_type": "code",
   "execution_count": 14,
   "metadata": {},
   "outputs": [
    {
     "data": {
      "text/plain": [
       "array([27, 28, 29, 30, 31, 32, 33, 34, 35, 36, 37, 38, 39])"
      ]
     },
     "execution_count": 14,
     "metadata": {},
     "output_type": "execute_result"
    }
   ],
   "source": [
    "u=np.arange(27,40,1)\n",
    "# scale = 39-27=12\n",
    "u"
   ]
  },
  {
   "cell_type": "code",
   "execution_count": 15,
   "metadata": {},
   "outputs": [],
   "source": [
    "from scipy.stats import uniform"
   ]
  },
  {
   "cell_type": "code",
   "execution_count": 16,
   "metadata": {},
   "outputs": [
    {
     "data": {
      "text/plain": [
       "33.0"
      ]
     },
     "execution_count": 16,
     "metadata": {},
     "output_type": "execute_result"
    }
   ],
   "source": [
    "uniform.mean(loc=27,scale=12)"
   ]
  },
  {
   "cell_type": "code",
   "execution_count": 19,
   "metadata": {},
   "outputs": [
    {
     "data": {
      "text/plain": [
       "array([0.25      , 0.33333333, 0.41666667, 0.5       , 0.58333333,\n",
       "       0.66666667])"
      ]
     },
     "execution_count": 19,
     "metadata": {},
     "output_type": "execute_result"
    }
   ],
   "source": [
    "uniform.cdf(np.arange(30,36,1),loc=27,scale=12)"
   ]
  },
  {
   "cell_type": "code",
   "execution_count": 20,
   "metadata": {},
   "outputs": [
    {
     "data": {
      "text/plain": [
       "0.41666667"
      ]
     },
     "execution_count": 20,
     "metadata": {},
     "output_type": "execute_result"
    }
   ],
   "source": [
    "prob=  0.66666667-0.25\n",
    "prob "
   ]
  },
  {
   "cell_type": "code",
   "execution_count": 22,
   "metadata": {},
   "outputs": [
    {
     "data": {
      "text/plain": [
       "691.0"
      ]
     },
     "execution_count": 22,
     "metadata": {},
     "output_type": "execute_result"
    }
   ],
   "source": [
    "u=uniform.mean(loc=200,scale=982)\n",
    "u"
   ]
  },
  {
   "cell_type": "code",
   "execution_count": 24,
   "metadata": {},
   "outputs": [
    {
     "data": {
      "text/plain": [
       "283.4789821721062"
      ]
     },
     "execution_count": 24,
     "metadata": {},
     "output_type": "execute_result"
    }
   ],
   "source": [
    "# for standard deviation for uniform distribution \n",
    "st= uniform.std(loc=200,scale=982)\n",
    "st"
   ]
  },
  {
   "cell_type": "code",
   "execution_count": 25,
   "metadata": {},
   "outputs": [],
   "source": [
    "#Normal Distribution\n",
    "from scipy.stats import norm"
   ]
  },
  {
   "cell_type": "code",
   "execution_count": 26,
   "metadata": {},
   "outputs": [
    {
     "data": {
      "text/plain": [
       "0.8413447460685429"
      ]
     },
     "execution_count": 26,
     "metadata": {},
     "output_type": "execute_result"
    }
   ],
   "source": [
    "val,m,s=68,65.5,2.5\n",
    "norm.cdf(val,m,s)"
   ]
  },
  {
   "cell_type": "code",
   "execution_count": 28,
   "metadata": {},
   "outputs": [
    {
     "data": {
      "text/plain": [
       "0.15865525393145707"
      ]
     },
     "execution_count": 28,
     "metadata": {},
     "output_type": "execute_result"
    }
   ],
   "source": [
    "# probability of x greater than val , cdf[x>val]\n",
    "prob=1-norm.cdf(val,m,s)\n",
    "prob"
   ]
  },
  {
   "cell_type": "code",
   "execution_count": 29,
   "metadata": {},
   "outputs": [
    {
     "data": {
      "text/plain": [
       "0.6826894921370859"
      ]
     },
     "execution_count": 29,
     "metadata": {},
     "output_type": "execute_result"
    }
   ],
   "source": [
    "#cdf[val<x<Val2]\n",
    "norm.cdf(val,m,s)-norm.cdf(63,m,s)"
   ]
  },
  {
   "cell_type": "code",
   "execution_count": null,
   "metadata": {},
   "outputs": [],
   "source": []
  },
  {
   "cell_type": "code",
   "execution_count": 31,
   "metadata": {},
   "outputs": [
    {
     "data": {
      "text/plain": [
       "0.019699270409376912"
      ]
     },
     "execution_count": 31,
     "metadata": {},
     "output_type": "execute_result"
    }
   ],
   "source": [
    "#what is the probabilty of obtaining a score of 700 on Gmat text that has a 494 and standard diviation of 100?\n",
    "#assume GMAT Score are nornally distributed\n",
    "#p(Val>700,m=494,s=100)\n",
    "prob=1-norm.cdf(700,494,100)\n",
    "prob"
   ]
  },
  {
   "cell_type": "code",
   "execution_count": 32,
   "metadata": {},
   "outputs": [
    {
     "data": {
      "text/plain": [
       "0.712260281150973"
      ]
     },
     "execution_count": 32,
     "metadata": {},
     "output_type": "execute_result"
    }
   ],
   "source": [
    "#for the same GMAT examination, what is the prob of randomly drawing a score that is 550 or less \n",
    "norm.cdf(550,494,100)"
   ]
  },
  {
   "cell_type": "code",
   "execution_count": 34,
   "metadata": {},
   "outputs": [
    {
     "data": {
      "text/plain": [
       "0.8292378553956377"
      ]
     },
     "execution_count": 34,
     "metadata": {},
     "output_type": "execute_result"
    }
   ],
   "source": [
    "# what is the prob of randomly drawing a score that is between 300 and 600 on the GMAT score\n",
    "norm.cdf(600,494,100)-norm.cdf(300,494,100)"
   ]
  },
  {
   "cell_type": "code",
   "execution_count": 35,
   "metadata": {},
   "outputs": [
    {
     "data": {
      "text/plain": [
       "0.2550348541262666"
      ]
     },
     "execution_count": 35,
     "metadata": {},
     "output_type": "execute_result"
    }
   ],
   "source": [
    "# what is the prob of randomly drawing a score that is between 350 and 450 on the GMAT score\n",
    "norm.cdf(450,494,100)-norm.cdf(350,494,100)"
   ]
  },
  {
   "cell_type": "code",
   "execution_count": 37,
   "metadata": {},
   "outputs": [],
   "source": [
    "# hypagoemetric distribution \n",
    "from scipy.stats import hypergeom"
   ]
  },
  {
   "cell_type": "code",
   "execution_count": null,
   "metadata": {},
   "outputs": [],
   "source": [
    "#suppose 18 major computer companirs operates in the United states and that 12 are located at californias silicon valley \n",
    "# if 3 computers are selected randomey from the entire list.whis is the probability that one or more selected companiss are loctaed atsilicon valley  "
   ]
  },
  {
   "cell_type": "code",
   "execution_count": 40,
   "metadata": {},
   "outputs": [
    {
     "data": {
      "text/plain": [
       "0.9754901960784313"
      ]
     },
     "execution_count": 40,
     "metadata": {},
     "output_type": "execute_result"
    }
   ],
   "source": [
    "#n=3,N=18,x=1,a=12\n",
    "# A number success,1 0r more means 1-1 x=0,N population size ,n is number of sample \n",
    "pval=hypergeom.sf(0,18,3,12) # sf=1-cdf\n",
    "pval"
   ]
  },
  {
   "cell_type": "code",
   "execution_count": null,
   "metadata": {},
   "outputs": [],
   "source": [
    "# Exponential Distribution \n"
   ]
  },
  {
   "cell_type": "code",
   "execution_count": null,
   "metadata": {},
   "outputs": [],
   "source": []
  },
  {
   "cell_type": "code",
   "execution_count": null,
   "metadata": {},
   "outputs": [],
   "source": []
  },
  {
   "cell_type": "code",
   "execution_count": null,
   "metadata": {},
   "outputs": [],
   "source": []
  },
  {
   "cell_type": "code",
   "execution_count": null,
   "metadata": {},
   "outputs": [],
   "source": []
  }
 ],
 "metadata": {
  "kernelspec": {
   "display_name": "cornelius_project",
   "language": "python",
   "name": "python3"
  },
  "language_info": {
   "codemirror_mode": {
    "name": "ipython",
    "version": 3
   },
   "file_extension": ".py",
   "mimetype": "text/x-python",
   "name": "python",
   "nbconvert_exporter": "python",
   "pygments_lexer": "ipython3",
   "version": "3.12.4"
  }
 },
 "nbformat": 4,
 "nbformat_minor": 2
}
