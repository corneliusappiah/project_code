{
 "cells": [
  {
   "cell_type": "code",
   "execution_count": 1,
   "metadata": {},
   "outputs": [],
   "source": [
    "import pandas as pd\n",
    "import numpy as np\n",
    "import matplotlib.pyplot as plt\n",
    "from datasets import load_dataset\n",
    "import scipy \n",
    "import ast"
   ]
  },
  {
   "cell_type": "code",
   "execution_count": 2,
   "metadata": {},
   "outputs": [
    {
     "name": "stderr",
     "output_type": "stream",
     "text": [
      "Using the latest cached version of the dataset since lukebarousse/data_jobs couldn't be found on the Hugging Face Hub\n",
      "Found the latest cached dataset configuration 'default' at C:\\Users\\Cornelius\\.cache\\huggingface\\datasets\\lukebarousse___data_jobs\\default\\0.0.0\\1d815e9ce232eb27db11939c44eb048fe6d2e9ab (last modified on Sat Aug  3 02:06:02 2024).\n"
     ]
    }
   ],
   "source": [
    "dataset=load_dataset('lukebarousse/data_jobs')\n",
    "df=dataset['train'].to_pandas()\n",
    "df[\"job_posted_date\"]=pd.to_datetime(df['job_posted_date'])\n",
    "df['job_skills']=df['job_skills'].apply(lambda x: ast.literal_eval(x) if pd.notna(x) else x)"
   ]
  },
  {
   "cell_type": "code",
   "execution_count": 8,
   "metadata": {},
   "outputs": [
    {
     "name": "stderr",
     "output_type": "stream",
     "text": [
      "C:\\Users\\Cornelius\\AppData\\Local\\Temp\\ipykernel_256\\908786246.py:2: SettingWithCopyWarning: \n",
      "A value is trying to be set on a copy of a slice from a DataFrame\n",
      "\n",
      "See the caveats in the documentation: https://pandas.pydata.org/pandas-docs/stable/user_guide/indexing.html#returning-a-view-versus-a-copy\n",
      "  df_DA_us.dropna(subset=\"salary_year_avg\",inplace=True)\n"
     ]
    }
   ],
   "source": [
    "df_DA_us=df[(df['job_title_short']==\"Data Analyst\") & (df[\"job_country\"]==\"United States\")]\n",
    "df_DA_us.dropna(subset=\"salary_year_avg\",inplace=True)"
   ]
  },
  {
   "cell_type": "code",
   "execution_count": 9,
   "metadata": {},
   "outputs": [
    {
     "data": {
      "text/plain": [
       "476059     90000.00000\n",
       "1684      120000.00000\n",
       "406723     58448.00000\n",
       "703017     95700.00000\n",
       "210970    120000.00000\n",
       "547013     85000.00000\n",
       "523785    125000.00000\n",
       "758567     77334.90625\n",
       "351016     40000.00000\n",
       "773696    119550.00000\n",
       "Name: salary_year_avg, dtype: float64"
      ]
     },
     "execution_count": 9,
     "metadata": {},
     "output_type": "execute_result"
    }
   ],
   "source": [
    "df_DA_us['salary_year_avg'].sample(10)"
   ]
  },
  {
   "cell_type": "code",
   "execution_count": 11,
   "metadata": {},
   "outputs": [
    {
     "data": {
      "text/plain": [
       "<Axes: >"
      ]
     },
     "execution_count": 11,
     "metadata": {},
     "output_type": "execute_result"
    },
    {
     "data": {
      "image/png": "[encoded data removed]",
      "text/plain": [
       "<Figure size 640x480 with 1 Axes>"
      ]
     },
     "metadata": {},
     "output_type": "display_data"
    }
   ],
   "source": [
    "df_DA_us['salary_year_avg'].plot(kind='box')"
   ]
  },
  {
   "cell_type": "code",
   "execution_count": 13,
   "metadata": {},
   "outputs": [
    {
     "data": {
      "text/plain": [
       "{'whiskers': [<matplotlib.lines.Line2D at 0x1e450a91eb0>,\n",
       "  <matplotlib.lines.Line2D at 0x1e450a920f0>],\n",
       " 'caps': [<matplotlib.lines.Line2D at 0x1e450a92270>,\n",
       "  <matplotlib.lines.Line2D at 0x1e450a92510>],\n",
       " 'boxes': [<matplotlib.lines.Line2D at 0x1e450a91c10>],\n",
       " 'medians': [<matplotlib.lines.Line2D at 0x1e450a92810>],\n",
       " 'fliers': [<matplotlib.lines.Line2D at 0x1e450a92ae0>],\n",
       " 'means': []}"
      ]
     },
     "execution_count": 13,
     "metadata": {},
     "output_type": "execute_result"
    },
    {
     "data": {
      "image/png": "[encoded data removed]",
      "text/plain": [
       "<Figure size 640x480 with 1 Axes>"
      ]
     },
     "metadata": {},
     "output_type": "display_data"
    }
   ],
   "source": [
    "plt.boxplot(df_DA_us['salary_year_avg'],vert=False)"
   ]
  },
  {
   "cell_type": "code",
   "execution_count": 47,
   "metadata": {},
   "outputs": [],
   "source": [
    "job_titles=['Data Analyst', \"Data Engineer\",'Data Scientist']\n",
    "df_us=df[(df['job_title_short'].isin(job_titles))&(df[\"job_country\"]==\"United States\")]\n",
    "#plt.boxplot(job_list,labels=job_titles,vert=False )"
   ]
  },
  {
   "cell_type": "code",
   "execution_count": 48,
   "metadata": {},
   "outputs": [
    {
     "data": {
      "text/plain": [
       "job_title_short\n",
       "Data Analyst      67816\n",
       "Data Scientist    58830\n",
       "Data Engineer     35080\n",
       "Name: count, dtype: int64"
      ]
     },
     "execution_count": 48,
     "metadata": {},
     "output_type": "execute_result"
    }
   ],
   "source": [
    "df_us['job_title_short'].value_counts()"
   ]
  },
  {
   "cell_type": "code",
   "execution_count": 49,
   "metadata": {},
   "outputs": [
    {
     "data": {
      "text/plain": [
       "3              NaN\n",
       "5              NaN\n",
       "9              NaN\n",
       "11             NaN\n",
       "17             NaN\n",
       "            ...   \n",
       "785673         NaN\n",
       "785685         NaN\n",
       "785692    157500.0\n",
       "785703         NaN\n",
       "785705         NaN\n",
       "Name: salary_year_avg, Length: 161726, dtype: float64"
      ]
     },
     "execution_count": 49,
     "metadata": {},
     "output_type": "execute_result"
    }
   ],
   "source": [
    "df_us['salary_year_avg']"
   ]
  },
  {
   "cell_type": "code",
   "execution_count": 50,
   "metadata": {},
   "outputs": [
    {
     "name": "stderr",
     "output_type": "stream",
     "text": [
      "C:\\Users\\Cornelius\\AppData\\Local\\Temp\\ipykernel_256\\970232304.py:1: SettingWithCopyWarning: \n",
      "A value is trying to be set on a copy of a slice from a DataFrame\n",
      "\n",
      "See the caveats in the documentation: https://pandas.pydata.org/pandas-docs/stable/user_guide/indexing.html#returning-a-view-versus-a-copy\n",
      "  df_us.dropna(subset=['salary_year_avg'],inplace=True)\n"
     ]
    }
   ],
   "source": [
    "df_us.dropna(subset=['salary_year_avg'],inplace=True)"
   ]
  },
  {
   "cell_type": "code",
   "execution_count": 51,
   "metadata": {},
   "outputs": [
    {
     "data": {
      "text/plain": [
       "92        120000.0\n",
       "100       228222.0\n",
       "109        89000.0\n",
       "116       114000.0\n",
       "146       129500.0\n",
       "            ...   \n",
       "785563    136400.0\n",
       "785624    139216.0\n",
       "785641    150000.0\n",
       "785648    221875.0\n",
       "785692    157500.0\n",
       "Name: salary_year_avg, Length: 11818, dtype: float64"
      ]
     },
     "execution_count": 51,
     "metadata": {},
     "output_type": "execute_result"
    }
   ],
   "source": [
    "df_us['salary_year_avg']"
   ]
  },
  {
   "cell_type": "code",
   "execution_count": 44,
   "metadata": {},
   "outputs": [],
   "source": [
    "job_list=[df_us[df_us['job_title_short']=='job_titles']['salary_year_avg'] for x in job_titles ]"
   ]
  },
  {
   "cell_type": "code",
   "execution_count": 45,
   "metadata": {},
   "outputs": [
    {
     "data": {
      "text/plain": [
       "Series([], Name: salary_year_avg, dtype: float64)"
      ]
     },
     "execution_count": 45,
     "metadata": {},
     "output_type": "execute_result"
    }
   ],
   "source": [
    "job_list[0]"
   ]
  },
  {
   "cell_type": "code",
   "execution_count": null,
   "metadata": {},
   "outputs": [],
   "source": []
  },
  {
   "cell_type": "code",
   "execution_count": 46,
   "metadata": {},
   "outputs": [
    {
     "name": "stderr",
     "output_type": "stream",
     "text": [
      "C:\\Users\\Cornelius\\AppData\\Local\\Temp\\ipykernel_256\\414311272.py:1: MatplotlibDeprecationWarning: The 'labels' parameter of boxplot() has been renamed 'tick_labels' since Matplotlib 3.9; support for the old name will be dropped in 3.11.\n",
      "  plt.boxplot(job_list,labels=job_titles,vert=False )\n"
     ]
    },
    {
     "data": {
      "text/plain": [
       "{'whiskers': [<matplotlib.lines.Line2D at 0x1e467a7f8c0>,\n",
       "  <matplotlib.lines.Line2D at 0x1e467a7e1e0>,\n",
       "  <matplotlib.lines.Line2D at 0x1e467a7e3f0>,\n",
       "  <matplotlib.lines.Line2D at 0x1e467a7e8d0>,\n",
       "  <matplotlib.lines.Line2D at 0x1e467a91100>,\n",
       "  <matplotlib.lines.Line2D at 0x1e467a90920>],\n",
       " 'caps': [<matplotlib.lines.Line2D at 0x1e467a7d250>,\n",
       "  <matplotlib.lines.Line2D at 0x1e467a7de50>,\n",
       "  <matplotlib.lines.Line2D at 0x1e467a903b0>,\n",
       "  <matplotlib.lines.Line2D at 0x1e467a90a70>,\n",
       "  <matplotlib.lines.Line2D at 0x1e467a91610>,\n",
       "  <matplotlib.lines.Line2D at 0x1e467a918e0>],\n",
       " 'boxes': [<matplotlib.lines.Line2D at 0x1e467a7ec00>,\n",
       "  <matplotlib.lines.Line2D at 0x1e467a7d3d0>,\n",
       "  <matplotlib.lines.Line2D at 0x1e467a911f0>],\n",
       " 'medians': [<matplotlib.lines.Line2D at 0x1e467a7d3a0>,\n",
       "  <matplotlib.lines.Line2D at 0x1e467a90e60>,\n",
       "  <matplotlib.lines.Line2D at 0x1e467a91c10>],\n",
       " 'fliers': [<matplotlib.lines.Line2D at 0x1e467a7e810>,\n",
       "  <matplotlib.lines.Line2D at 0x1e467a90200>,\n",
       "  <matplotlib.lines.Line2D at 0x1e467a91d60>],\n",
       " 'means': []}"
      ]
     },
     "execution_count": 46,
     "metadata": {},
     "output_type": "execute_result"
    },
    {
     "data": {
      "image/png": "[encoded data removed]",
      "text/plain": [
       "<Figure size 640x480 with 1 Axes>"
      ]
     },
     "metadata": {},
     "output_type": "display_data"
    }
   ],
   "source": [
    "plt.boxplot(job_list,labels=job_titles,vert=False )"
   ]
  }
 ],
 "metadata": {
  "kernelspec": {
   "display_name": "cornelius_project",
   "language": "python",
   "name": "python3"
  },
  "language_info": {
   "codemirror_mode": {
    "name": "ipython",
    "version": 3
   },
   "file_extension": ".py",
   "mimetype": "text/x-python",
   "name": "python",
   "nbconvert_exporter": "python",
   "pygments_lexer": "ipython3",
   "version": "3.12.4"
  }
 },
 "nbformat": 4,
 "nbformat_minor": 2
}
